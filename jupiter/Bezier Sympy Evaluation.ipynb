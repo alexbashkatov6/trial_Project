{
 "cells": [
  {
   "cell_type": "code",
   "execution_count": 3,
   "metadata": {},
   "outputs": [],
   "source": [
    "import sympy\n",
    "\n",
    "#curv_ds = sympy.simplify(sympy.diff(curv,s))\n",
    "#curv_dt = sympy.simplify(sympy.diff(curv,t))\n",
    "# expr.subs([(x, 2), (y, 4), (z, 0)])\n",
    "# sympy.limit(sympy.sin(x)/x, x, 0)\n",
    "# ((x**2 + x + 1) * (x**2 + x + 1)).as_poly()\n",
    "\n",
    "# need symbols\n",
    "t = sympy.Symbol('t')\n",
    "x1 = sympy.Symbol('x1')\n",
    "y1 = sympy.Symbol('y1')\n",
    "x2 = sympy.Symbol('x2')\n",
    "y2 = sympy.Symbol('y2')\n",
    "kx = sympy.Symbol('kx')\n",
    "ky = sympy.Symbol('ky')\n",
    "s = sympy.Symbol('s')\n",
    "\n",
    "# intersect point_by_param coords (on line k)\n",
    "x3 = x1 + kx * s\n",
    "y3 = y1 + ky * s\n",
    "\n",
    "# parametric Point 1\n",
    "xP1 = x3 * t + x1 * (1 - t)\n",
    "yP1 = y3 * t + y1 * (1 - t)\n",
    "\n",
    "# parametric Point 2\n",
    "xP2 = x2 * t + x3 * (1 - t)\n",
    "yP2 = y2 * t + y3 * (1 - t)\n",
    "\n",
    "# parametric line between points P1 and P2\n",
    "xP = xP2 * t + xP1 * (1 - t)\n",
    "yP = yP2 * t + yP1 * (1 - t)\n",
    "\n",
    "# derivation\n",
    "xP_dt = sympy.simplify(sympy.diff(xP,t))\n",
    "yP_dt = sympy.simplify(sympy.diff(yP,t))\n",
    "xP_dt2 = sympy.simplify(sympy.diff(xP_dt,t))\n",
    "yP_dt2 = sympy.simplify(sympy.diff(yP_dt,t))\n",
    "\n",
    "# curvature\n",
    "curv = sympy.simplify((xP_dt * yP_dt2 - yP_dt * xP_dt2) / (xP_dt**2 + yP_dt**2)**1.5)\n",
    "\n",
    "#print(xP_dt)\n",
    "#print(yP_dt)\n",
    "#print(xP_dt2)\n",
    "#print(yP_dt2)\n",
    "#print(curv)"
   ]
  },
  {
   "cell_type": "code",
   "execution_count": null,
   "metadata": {},
   "outputs": [],
   "source": []
  }
 ],
 "metadata": {
  "kernelspec": {
   "display_name": "Python 3",
   "language": "python",
   "name": "python3"
  },
  "language_info": {
   "codemirror_mode": {
    "name": "ipython",
    "version": 3
   },
   "file_extension": ".py",
   "mimetype": "text/x-python",
   "name": "python",
   "nbconvert_exporter": "python",
   "pygments_lexer": "ipython3",
   "version": "3.6.5"
  }
 },
 "nbformat": 4,
 "nbformat_minor": 4
}
